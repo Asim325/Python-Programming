{
 "cells": [
  {
   "cell_type": "markdown",
   "metadata": {},
   "source": [
    "# **LOOPING STATEMENTS EXERCISE**"
   ]
  },
  {
   "cell_type": "markdown",
   "metadata": {},
   "source": [
    "### 1. Print -10 to -1 using for loop"
   ]
  },
  {
   "cell_type": "code",
   "execution_count": 2,
   "metadata": {},
   "outputs": [
    {
     "name": "stdout",
     "output_type": "stream",
     "text": [
      "-10\n",
      "-9\n",
      "-8\n",
      "-7\n",
      "-6\n",
      "-5\n",
      "-4\n",
      "-3\n",
      "-2\n",
      "-1\n"
     ]
    }
   ],
   "source": [
    "for i in range(-10,0):\n",
    "    print(i)"
   ]
  },
  {
   "cell_type": "markdown",
   "metadata": {},
   "source": [
    "### 2. Using while loop print numbers 1 to 10"
   ]
  },
  {
   "cell_type": "code",
   "execution_count": 3,
   "metadata": {},
   "outputs": [
    {
     "name": "stdout",
     "output_type": "stream",
     "text": [
      "1\n",
      "2\n",
      "3\n",
      "4\n",
      "5\n",
      "6\n",
      "7\n",
      "8\n",
      "9\n",
      "10\n"
     ]
    }
   ],
   "source": [
    "i=1\n",
    "while(i<11):\n",
    "    print(i)\n",
    "    i +=1"
   ]
  },
  {
   "cell_type": "markdown",
   "metadata": {},
   "source": [
    "### 3. Using for loop print first ten even numbers"
   ]
  },
  {
   "cell_type": "code",
   "execution_count": 4,
   "metadata": {},
   "outputs": [
    {
     "name": "stdout",
     "output_type": "stream",
     "text": [
      "2\n",
      "4\n",
      "6\n",
      "8\n",
      "10\n",
      "12\n",
      "14\n",
      "16\n",
      "18\n",
      "20\n"
     ]
    }
   ],
   "source": [
    "for i in range(2,21,2):\n",
    "    print(i)\n",
    "    "
   ]
  },
  {
   "cell_type": "markdown",
   "metadata": {},
   "source": [
    "### 4. Using while loop generate the table of 5"
   ]
  },
  {
   "cell_type": "code",
   "execution_count": 12,
   "metadata": {},
   "outputs": [
    {
     "name": "stdout",
     "output_type": "stream",
     "text": [
      "5  x  1  =  5\n",
      "5  x  2  =  10\n",
      "5  x  3  =  15\n",
      "5  x  4  =  20\n",
      "5  x  5  =  25\n",
      "5  x  6  =  30\n",
      "5  x  7  =  35\n",
      "5  x  8  =  40\n",
      "5  x  9  =  45\n",
      "5  x  10  =  50\n"
     ]
    }
   ],
   "source": [
    "i=1\n",
    "while(i<=10):\n",
    "    mul = 5 * i\n",
    "    print(5,\" x \",i,\" = \",mul)\n",
    "    i +=1\n",
    "    "
   ]
  },
  {
   "cell_type": "markdown",
   "metadata": {},
   "source": [
    "### 5. Using for loop generate the table of 8"
   ]
  },
  {
   "cell_type": "code",
   "execution_count": 5,
   "metadata": {},
   "outputs": [
    {
     "name": "stdout",
     "output_type": "stream",
     "text": [
      "8  x  0  =  0\n",
      "8  x  1  =  8\n",
      "8  x  2  =  16\n",
      "8  x  3  =  24\n",
      "8  x  4  =  32\n",
      "8  x  5  =  40\n",
      "8  x  6  =  48\n",
      "8  x  7  =  56\n",
      "8  x  8  =  64\n",
      "8  x  9  =  72\n",
      "8  x  10  =  80\n"
     ]
    }
   ],
   "source": [
    "for i in range(11):\n",
    "    print(8,\" x \",i,\" = \",8*i )"
   ]
  },
  {
   "cell_type": "markdown",
   "metadata": {},
   "source": [
    "### 6. For numbers 1 to 100, if a number is divisible by 3, then print Fizz.\n",
    "### If a number is divisible by 5, then print Buzz.\n",
    "### If a number is divisible by 3 and 5 both, then print FizzBuzz\n",
    "### If a number is neither divisible by 3 or 5, just print the number.\n",
    "\n",
    "Hint: use range(1,101) function  to generate numbers from 1 to 100"
   ]
  },
  {
   "cell_type": "code",
   "execution_count": 15,
   "metadata": {},
   "outputs": [
    {
     "name": "stdout",
     "output_type": "stream",
     "text": [
      "neither divisible by 3 and 5\n",
      "neither divisible by 3 and 5\n",
      "Buzz\n",
      "neither divisible by 3 and 5\n",
      "Buzz\n",
      "Buzz\n",
      "neither divisible by 3 and 5\n",
      "neither divisible by 3 and 5\n",
      "Buzz\n",
      "Buzz\n",
      "neither divisible by 3 and 5\n",
      "Buzz\n",
      "neither divisible by 3 and 5\n",
      "neither divisible by 3 and 5\n",
      "Buzz\n",
      "neither divisible by 3 and 5\n",
      "neither divisible by 3 and 5\n",
      "Buzz\n",
      "neither divisible by 3 and 5\n",
      "Buzz\n",
      "Buzz\n",
      "neither divisible by 3 and 5\n",
      "neither divisible by 3 and 5\n",
      "Buzz\n",
      "Buzz\n",
      "neither divisible by 3 and 5\n",
      "Buzz\n",
      "neither divisible by 3 and 5\n",
      "neither divisible by 3 and 5\n",
      "Buzz\n",
      "neither divisible by 3 and 5\n",
      "neither divisible by 3 and 5\n",
      "Buzz\n",
      "neither divisible by 3 and 5\n",
      "Buzz\n",
      "Buzz\n",
      "neither divisible by 3 and 5\n",
      "neither divisible by 3 and 5\n",
      "Buzz\n",
      "Buzz\n",
      "neither divisible by 3 and 5\n",
      "Buzz\n",
      "neither divisible by 3 and 5\n",
      "neither divisible by 3 and 5\n",
      "Buzz\n",
      "neither divisible by 3 and 5\n",
      "neither divisible by 3 and 5\n",
      "Buzz\n",
      "neither divisible by 3 and 5\n",
      "Buzz\n",
      "Buzz\n",
      "neither divisible by 3 and 5\n",
      "neither divisible by 3 and 5\n",
      "Buzz\n",
      "Buzz\n",
      "neither divisible by 3 and 5\n",
      "Buzz\n",
      "neither divisible by 3 and 5\n",
      "neither divisible by 3 and 5\n",
      "Buzz\n",
      "neither divisible by 3 and 5\n",
      "neither divisible by 3 and 5\n",
      "Buzz\n",
      "neither divisible by 3 and 5\n",
      "Buzz\n",
      "Buzz\n",
      "neither divisible by 3 and 5\n",
      "neither divisible by 3 and 5\n",
      "Buzz\n",
      "Buzz\n",
      "neither divisible by 3 and 5\n",
      "Buzz\n",
      "neither divisible by 3 and 5\n",
      "neither divisible by 3 and 5\n",
      "Buzz\n",
      "neither divisible by 3 and 5\n",
      "neither divisible by 3 and 5\n",
      "Buzz\n",
      "neither divisible by 3 and 5\n",
      "Buzz\n",
      "Buzz\n",
      "neither divisible by 3 and 5\n",
      "neither divisible by 3 and 5\n",
      "Buzz\n",
      "Buzz\n",
      "neither divisible by 3 and 5\n",
      "Buzz\n",
      "neither divisible by 3 and 5\n",
      "neither divisible by 3 and 5\n",
      "Buzz\n",
      "neither divisible by 3 and 5\n",
      "neither divisible by 3 and 5\n",
      "Buzz\n",
      "neither divisible by 3 and 5\n",
      "Buzz\n",
      "Buzz\n",
      "neither divisible by 3 and 5\n",
      "neither divisible by 3 and 5\n",
      "Buzz\n",
      "Buzz\n"
     ]
    }
   ],
   "source": [
    "for number in range(1,101):\n",
    "    if number % 3==0:\n",
    "        print(\"Buzz\")\n",
    "    elif number % 3==0 and number % 5==0:\n",
    "        print(\"FizzBuzz\")\n",
    "    elif number % 5==0:\n",
    "        print(\"Buzz\")\n",
    "    else:\n",
    "        print(\"neither divisible by 3 and 5\")"
   ]
  },
  {
   "cell_type": "markdown",
   "metadata": {},
   "source": [
    "### 7.  Using the range function find the sum of all numbers from 1 to 100.\n",
    "    For the numbers in the range (1,100):1+2+3+4+5......+100 = 5050"
   ]
  },
  {
   "cell_type": "code",
   "execution_count": 20,
   "metadata": {},
   "outputs": [
    {
     "name": "stdout",
     "output_type": "stream",
     "text": [
      "5050\n"
     ]
    }
   ],
   "source": [
    "sum=0\n",
    "for i in range(1,101):\n",
    "    sum=sum+i\n",
    "print(sum)"
   ]
  },
  {
   "cell_type": "markdown",
   "metadata": {},
   "source": [
    "### 8. Write a program which will find all such numbers which are divisible by 7 but are not a multiple of 5, between 202 and 320 (both included)."
   ]
  },
  {
   "cell_type": "code",
   "execution_count": 24,
   "metadata": {},
   "outputs": [
    {
     "name": "stdout",
     "output_type": "stream",
     "text": [
      "203\n",
      "217\n",
      "224\n",
      "231\n",
      "238\n",
      "252\n",
      "259\n",
      "266\n",
      "273\n",
      "287\n",
      "294\n",
      "301\n",
      "308\n"
     ]
    }
   ],
   "source": [
    "for number in range(202,320):\n",
    "    if number % 7==0 and number % 5!=0:\n",
    "        print(number)"
   ]
  },
  {
   "cell_type": "markdown",
   "metadata": {},
   "source": [
    "### 9. Python Program to count the number of vowels in a string.\n",
    "st = \"Data Science\"\n",
    "\n",
    "Output: No of vowels = 5"
   ]
  },
  {
   "cell_type": "code",
   "execution_count": 27,
   "metadata": {},
   "outputs": [],
   "source": [
    "st = \"Data Science\"\n",
    "str1=\"aeiouAEIOU\"\n",
    "sum = 0\n",
    "for i in st:\n",
    "    if i in str1:\n",
    "        sum+=1\n",
    "        "
   ]
  },
  {
   "cell_type": "code",
   "execution_count": 28,
   "metadata": {},
   "outputs": [
    {
     "data": {
      "text/plain": [
       "5"
      ]
     },
     "execution_count": 28,
     "metadata": {},
     "output_type": "execute_result"
    }
   ],
   "source": [
    "sum"
   ]
  },
  {
   "cell_type": "markdown",
   "metadata": {},
   "source": [
    "### 10. Print Data Science 5 times using for loop"
   ]
  },
  {
   "cell_type": "code",
   "execution_count": 29,
   "metadata": {},
   "outputs": [
    {
     "name": "stdout",
     "output_type": "stream",
     "text": [
      "Data Science\n",
      "Data Science\n",
      "Data Science\n",
      "Data Science\n",
      "Data Science\n"
     ]
    }
   ],
   "source": [
    "for i in range(5):\n",
    "    print(\"Data Science\")"
   ]
  },
  {
   "cell_type": "code",
   "execution_count": null,
   "metadata": {},
   "outputs": [],
   "source": []
  }
 ],
 "metadata": {
  "kernelspec": {
   "display_name": "Python 3",
   "language": "python",
   "name": "python3"
  },
  "language_info": {
   "codemirror_mode": {
    "name": "ipython",
    "version": 3
   },
   "file_extension": ".py",
   "mimetype": "text/x-python",
   "name": "python",
   "nbconvert_exporter": "python",
   "pygments_lexer": "ipython3",
   "version": "3.8.3"
  }
 },
 "nbformat": 4,
 "nbformat_minor": 4
}
