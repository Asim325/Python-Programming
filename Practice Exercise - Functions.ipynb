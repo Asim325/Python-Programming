{
 "cells": [
  {
   "cell_type": "markdown",
   "metadata": {},
   "source": [
    "# **USER DEFINED FUNCTION AND LAMBDA FUNCTIONS EXERCISE**"
   ]
  },
  {
   "cell_type": "markdown",
   "metadata": {},
   "source": [
    "### 1. Write a function to add, subtract, multiply and divide two variables passed to it and print the result "
   ]
  },
  {
   "cell_type": "code",
   "execution_count": 1,
   "metadata": {},
   "outputs": [
    {
     "name": "stdout",
     "output_type": "stream",
     "text": [
      "(30, 10, 200, 2.0)\n"
     ]
    }
   ],
   "source": [
    "def calculator(num1,num2):\n",
    "    add = num1+num2\n",
    "    sub = num1-num2\n",
    "    mul = num1*num2\n",
    "    divide = num1/num2\n",
    "    return(add,sub,mul,divide)\n",
    "result = calculator(20,10)\n",
    "print(result)\n",
    "    "
   ]
  },
  {
   "cell_type": "markdown",
   "metadata": {},
   "source": [
    "### 2. Write a Python function given range (1,10) both included, that gives the square of every number"
   ]
  },
  {
   "cell_type": "code",
   "execution_count": 3,
   "metadata": {},
   "outputs": [
    {
     "name": "stdout",
     "output_type": "stream",
     "text": [
      "1\n",
      "4\n",
      "9\n",
      "16\n",
      "25\n",
      "36\n",
      "49\n",
      "64\n",
      "81\n",
      "100\n"
     ]
    }
   ],
   "source": [
    "def sqr(n):\n",
    "    for i in range(1,11):\n",
    "        print(i**n)\n",
    "sqr(2)\n"
   ]
  },
  {
   "cell_type": "markdown",
   "metadata": {},
   "source": [
    "### 3. Write a function to calculate simple interest\n",
    "\n",
    "simple interest = (Principal amount * Annual Rate of interest * Time(in years))/100\n",
    "\n",
    "Take values as follows\n",
    "\n",
    "Principal Amount = 1000\n",
    "\n",
    "Rate of interest = 3%\n",
    "\n",
    "Time = 5 years"
   ]
  },
  {
   "cell_type": "code",
   "execution_count": 12,
   "metadata": {},
   "outputs": [
    {
     "name": "stdout",
     "output_type": "stream",
     "text": [
      "Total interest=  150.0\n"
     ]
    }
   ],
   "source": [
    "def interest_calculator(pamount,arate,time):\n",
    "    interest = (pamount * arate *time)/100\n",
    "    return(interest)\n",
    "calculate = interest_calculator(1000, 3, 5)\n",
    "print(\"Total interest= \",calculate)"
   ]
  },
  {
   "cell_type": "markdown",
   "metadata": {},
   "source": [
    "### 4. Write a function to check the number is divisible by 25. The function should return True if divisible and \"Not divisible\" if not"
   ]
  },
  {
   "cell_type": "code",
   "execution_count": 4,
   "metadata": {},
   "outputs": [
    {
     "name": "stdout",
     "output_type": "stream",
     "text": [
      "False\n"
     ]
    }
   ],
   "source": [
    "def divisible(num):\n",
    "    if num % 25 == 0:\n",
    "        return True\n",
    "    else:\n",
    "        return False\n",
    "print(divisible(98))\n"
   ]
  },
  {
   "cell_type": "markdown",
   "metadata": {},
   "source": [
    "### 5. Define a function that takes an input, squares it, adds 5, then returns the answer"
   ]
  },
  {
   "cell_type": "code",
   "execution_count": 6,
   "metadata": {},
   "outputs": [
    {
     "name": "stdout",
     "output_type": "stream",
     "text": [
      "enter number2\n",
      "9\n"
     ]
    }
   ],
   "source": [
    "def squareadd(a):\n",
    "    \n",
    "    return (a**2)+5\n",
    "\n",
    "a=int(input(\"enter number\"))\n",
    "print(squareadd(a))"
   ]
  },
  {
   "cell_type": "markdown",
   "metadata": {},
   "source": [
    "### 6. Using lambda function perform the following task : take an input, squares it, add 5, then return the answer"
   ]
  },
  {
   "cell_type": "code",
   "execution_count": 12,
   "metadata": {},
   "outputs": [
    {
     "data": {
      "text/plain": [
       "105"
      ]
     },
     "execution_count": 12,
     "metadata": {},
     "output_type": "execute_result"
    }
   ],
   "source": [
    "#n=int(input(\"enter number\"))\n",
    "result = (lambda n: (n**2)+5)\n",
    "result(10)"
   ]
  },
  {
   "cell_type": "markdown",
   "metadata": {},
   "source": [
    "### 7. Write a function to calculate the power of a number raised to other ($a^b$)"
   ]
  },
  {
   "cell_type": "code",
   "execution_count": 13,
   "metadata": {},
   "outputs": [
    {
     "name": "stdout",
     "output_type": "stream",
     "text": [
      "base3\n",
      "exp2\n",
      "Power of number=  9\n"
     ]
    }
   ],
   "source": [
    "base = int(input(\"base\"))\n",
    "exp = int(input(\"exp\"))\n",
    "\n",
    "pow_result = pow(base, exp)\n",
    "print(\"Power of number= \",pow_result)\n"
   ]
  },
  {
   "cell_type": "markdown",
   "metadata": {},
   "source": [
    "### 8. Write a function to calculate the area of a triangle\n",
    "\n",
    "area of triangle = 1/2 * base * height"
   ]
  },
  {
   "cell_type": "code",
   "execution_count": 15,
   "metadata": {},
   "outputs": [
    {
     "name": "stdout",
     "output_type": "stream",
     "text": [
      "Area of triangle=  6.0\n"
     ]
    }
   ],
   "source": [
    "def triangle(base, height):\n",
    "    area_of_triangle = 1/2*(base*height)\n",
    "    return( area_of_triangle)\n",
    "calculate = triangle(3,4)\n",
    "print(\"Area of triangle= \",calculate)"
   ]
  },
  {
   "cell_type": "markdown",
   "metadata": {},
   "source": [
    "### 9. Create a function that takes country as the input and returns \"I am from *Country* \""
   ]
  },
  {
   "cell_type": "code",
   "execution_count": 16,
   "metadata": {},
   "outputs": [
    {
     "name": "stdout",
     "output_type": "stream",
     "text": [
      "Your countryPakistan\n",
      "I am fromPakistan\n"
     ]
    }
   ],
   "source": [
    "def country(c):\n",
    "    \n",
    "    return \"I am from\" + c\n",
    "\n",
    "c = input(\"Your country \")\n",
    "print(country(c))"
   ]
  },
  {
   "cell_type": "markdown",
   "metadata": {},
   "source": [
    "### 10. Write a function to convert degree Celsius temperature to Fahrenheit"
   ]
  },
  {
   "cell_type": "code",
   "execution_count": 17,
   "metadata": {},
   "outputs": [
    {
     "name": "stdout",
     "output_type": "stream",
     "text": [
      "enter number37\n",
      "Temperature in fahrenheit =  98.60000000000001\n"
     ]
    }
   ],
   "source": [
    "def tempconverter(celcius):\n",
    "    fahren = celcius * (9/5) +32\n",
    "    return( fahren)\n",
    "\n",
    "celcius = int(input(\"enter number\"))\n",
    "temp_in_fahrnheit = tempconverter(celcius)\n",
    "print(\"Temperature in fahrenheit = \", temp_in_fahrnheit)"
   ]
  },
  {
   "cell_type": "code",
   "execution_count": null,
   "metadata": {},
   "outputs": [],
   "source": []
  }
 ],
 "metadata": {
  "kernelspec": {
   "display_name": "Python 3",
   "language": "python",
   "name": "python3"
  },
  "language_info": {
   "codemirror_mode": {
    "name": "ipython",
    "version": 3
   },
   "file_extension": ".py",
   "mimetype": "text/x-python",
   "name": "python",
   "nbconvert_exporter": "python",
   "pygments_lexer": "ipython3",
   "version": "3.8.3"
  }
 },
 "nbformat": 4,
 "nbformat_minor": 4
}
